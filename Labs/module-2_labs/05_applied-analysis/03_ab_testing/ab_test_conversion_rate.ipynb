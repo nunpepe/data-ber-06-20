{
 "cells": [
  {
   "cell_type": "code",
   "execution_count": 1,
   "metadata": {},
   "outputs": [],
   "source": [
    "import pandas as pd\n",
    "import numpy as np\n",
    "import seaborn as sns\n",
    "import matplotlib.pyplot as plt\n",
    "import scipy"
   ]
  },
  {
   "cell_type": "markdown",
   "metadata": {},
   "source": [
    "# A/B testing to improve Conversion Rates\n",
    "\n",
    "You work for Company K. Company K is a video streaming service that is selling subscriptions. After running a few analyses, you suggest to the Product Team that placing more prominent upsells on the landing page may result in higher conversion rates (visitors signing up for the subscription). The Product Team took your suggestion with excitement and the engineering team went ahead and implemented the experiment right away. \n",
    "\n",
    "The experiment ran for the month of February 2020. You prepared a few datasets beforehand that will help you in analyzing the success of the A/B test.\n",
    "The A/B test had two experiment groups, A & B, in which visitors assigned to A were in the control group and visitors assigned to B received the new variant with the new upsells. You suggest to assign approximately 7% of the daily visitors to the experiment, applying a 50/50 split among the two variants.\n",
    "\n",
    "You have the following datasets:\n",
    "\n",
    "1. `first_pageviews`: This is a summary of all the unsubscribed users and the timestamp of their first pageview. Users get assigned according to their cookies, which is how we make sure that a user may not be assigned to two different groups when they reach our landing page. Since visitors haven't signed up at this point, they don't have a `user_id`, instead, we assign them a random but unique `anonymous_id`. If visitors get assigned to an experiment, you should see a non-null value in the `exp_id` column. Your experiment has the ids **101** for control and **102** for the variant.\n",
    "2. `subscribers`: This table shows you which users have subscribed at what point in time. To subscribe, you need to be a registered user, which is how you can uniquely identify each subscriber. Since we only sell yearly subscriptions, users cannot have more than 1 subscription within 365 days. \n",
    "3. `users`: This table is useful to link the first pageview of unsubscribed visitors to our subscribers. It keeps track of the `anonymous_id` we assigned to them and maps to the `user_id` we assigned after they sign up\n",
    "\n",
    "Immediately after the end of the experiment, the Product Manager approaches you overly excited and wants you to analyze the success of the experiment.\n",
    "\n",
    "You can find the datasets in the `data/2020-03-01` folder."
   ]
  },
  {
   "cell_type": "code",
   "execution_count": 2,
   "metadata": {},
   "outputs": [],
   "source": [
    "# load the datasets\n",
    "first_pageviews = pd.read_csv(\"../03_ab_testing/data/2020-03-01/first_pageviews.csv\")\n",
    "users = pd.read_csv(\"../03_ab_testing/data/2020-03-01/users_mar01.csv\")\n",
    "subscriptions = pd.read_csv(\"../03_ab_testing/data/2020-03-01/subscriptions_mar01.csv\")"
   ]
  },
  {
   "cell_type": "markdown",
   "metadata": {},
   "source": [
    "## Inspect the data"
   ]
  },
  {
   "cell_type": "code",
   "execution_count": 3,
   "metadata": {},
   "outputs": [
    {
     "data": {
      "text/plain": [
       "101.0    67887\n",
       "102.0    67715\n",
       "Name: exp_id, dtype: int64"
      ]
     },
     "execution_count": 3,
     "metadata": {},
     "output_type": "execute_result"
    }
   ],
   "source": [
    "# show the first 5 lines of each dataset\n",
    "first_pageviews[\"exp_id\"].value_counts()"
   ]
  },
  {
   "cell_type": "code",
   "execution_count": 4,
   "metadata": {},
   "outputs": [
    {
     "data": {
      "text/html": [
       "<div>\n",
       "<style scoped>\n",
       "    .dataframe tbody tr th:only-of-type {\n",
       "        vertical-align: middle;\n",
       "    }\n",
       "\n",
       "    .dataframe tbody tr th {\n",
       "        vertical-align: top;\n",
       "    }\n",
       "\n",
       "    .dataframe thead th {\n",
       "        text-align: right;\n",
       "    }\n",
       "</style>\n",
       "<table border=\"1\" class=\"dataframe\">\n",
       "  <thead>\n",
       "    <tr style=\"text-align: right;\">\n",
       "      <th></th>\n",
       "      <th>anonymous_id</th>\n",
       "      <th>user_id</th>\n",
       "    </tr>\n",
       "  </thead>\n",
       "  <tbody>\n",
       "    <tr>\n",
       "      <th>0</th>\n",
       "      <td>e575dd8c-f02c-4a1a-8a53-fef7ff2b9f95</td>\n",
       "      <td>b67781da-3a0f-48af-80d8-728d3ec31c66</td>\n",
       "    </tr>\n",
       "    <tr>\n",
       "      <th>1</th>\n",
       "      <td>a92532b2-0317-49bb-9f00-3d9b9ae71ea5</td>\n",
       "      <td>ce1764ca-91a2-4c2e-95fe-c415c5df7be5</td>\n",
       "    </tr>\n",
       "    <tr>\n",
       "      <th>2</th>\n",
       "      <td>9c39b4d4-d7da-49e2-bcd9-4abee3e211f6</td>\n",
       "      <td>b24712a4-40b7-4841-a9e9-f566d9ed48a9</td>\n",
       "    </tr>\n",
       "    <tr>\n",
       "      <th>3</th>\n",
       "      <td>858cc4cc-dcd2-4897-815b-500a2ee8c00e</td>\n",
       "      <td>d0e4f27e-11ab-470c-85db-4f7389ba63d4</td>\n",
       "    </tr>\n",
       "    <tr>\n",
       "      <th>4</th>\n",
       "      <td>96a9ad69-568e-40bd-9ff7-3e6b8e0d3f9a</td>\n",
       "      <td>91b679ad-38cc-4569-b5fc-8a98dc858b8d</td>\n",
       "    </tr>\n",
       "  </tbody>\n",
       "</table>\n",
       "</div>"
      ],
      "text/plain": [
       "                           anonymous_id                               user_id\n",
       "0  e575dd8c-f02c-4a1a-8a53-fef7ff2b9f95  b67781da-3a0f-48af-80d8-728d3ec31c66\n",
       "1  a92532b2-0317-49bb-9f00-3d9b9ae71ea5  ce1764ca-91a2-4c2e-95fe-c415c5df7be5\n",
       "2  9c39b4d4-d7da-49e2-bcd9-4abee3e211f6  b24712a4-40b7-4841-a9e9-f566d9ed48a9\n",
       "3  858cc4cc-dcd2-4897-815b-500a2ee8c00e  d0e4f27e-11ab-470c-85db-4f7389ba63d4\n",
       "4  96a9ad69-568e-40bd-9ff7-3e6b8e0d3f9a  91b679ad-38cc-4569-b5fc-8a98dc858b8d"
      ]
     },
     "execution_count": 4,
     "metadata": {},
     "output_type": "execute_result"
    }
   ],
   "source": [
    "users.head()"
   ]
  },
  {
   "cell_type": "code",
   "execution_count": 5,
   "metadata": {},
   "outputs": [
    {
     "data": {
      "text/html": [
       "<div>\n",
       "<style scoped>\n",
       "    .dataframe tbody tr th:only-of-type {\n",
       "        vertical-align: middle;\n",
       "    }\n",
       "\n",
       "    .dataframe tbody tr th {\n",
       "        vertical-align: top;\n",
       "    }\n",
       "\n",
       "    .dataframe thead th {\n",
       "        text-align: right;\n",
       "    }\n",
       "</style>\n",
       "<table border=\"1\" class=\"dataframe\">\n",
       "  <thead>\n",
       "    <tr style=\"text-align: right;\">\n",
       "      <th></th>\n",
       "      <th>user_id</th>\n",
       "      <th>created_at</th>\n",
       "      <th>client_app</th>\n",
       "    </tr>\n",
       "  </thead>\n",
       "  <tbody>\n",
       "    <tr>\n",
       "      <th>0</th>\n",
       "      <td>b67781da-3a0f-48af-80d8-728d3ec31c66</td>\n",
       "      <td>2020-01-26 09:00:55.628471160</td>\n",
       "      <td>android</td>\n",
       "    </tr>\n",
       "    <tr>\n",
       "      <th>1</th>\n",
       "      <td>ce1764ca-91a2-4c2e-95fe-c415c5df7be5</td>\n",
       "      <td>2020-01-30 10:43:16.359589080</td>\n",
       "      <td>ios</td>\n",
       "    </tr>\n",
       "    <tr>\n",
       "      <th>2</th>\n",
       "      <td>b24712a4-40b7-4841-a9e9-f566d9ed48a9</td>\n",
       "      <td>2020-02-15 21:19:35.663792880</td>\n",
       "      <td>web</td>\n",
       "    </tr>\n",
       "    <tr>\n",
       "      <th>3</th>\n",
       "      <td>d0e4f27e-11ab-470c-85db-4f7389ba63d4</td>\n",
       "      <td>2020-02-13 04:45:52.198410780</td>\n",
       "      <td>ios</td>\n",
       "    </tr>\n",
       "    <tr>\n",
       "      <th>4</th>\n",
       "      <td>91b679ad-38cc-4569-b5fc-8a98dc858b8d</td>\n",
       "      <td>2020-02-10 13:24:29.670026400</td>\n",
       "      <td>android</td>\n",
       "    </tr>\n",
       "  </tbody>\n",
       "</table>\n",
       "</div>"
      ],
      "text/plain": [
       "                                user_id                     created_at  \\\n",
       "0  b67781da-3a0f-48af-80d8-728d3ec31c66  2020-01-26 09:00:55.628471160   \n",
       "1  ce1764ca-91a2-4c2e-95fe-c415c5df7be5  2020-01-30 10:43:16.359589080   \n",
       "2  b24712a4-40b7-4841-a9e9-f566d9ed48a9  2020-02-15 21:19:35.663792880   \n",
       "3  d0e4f27e-11ab-470c-85db-4f7389ba63d4  2020-02-13 04:45:52.198410780   \n",
       "4  91b679ad-38cc-4569-b5fc-8a98dc858b8d  2020-02-10 13:24:29.670026400   \n",
       "\n",
       "  client_app  \n",
       "0    android  \n",
       "1        ios  \n",
       "2        web  \n",
       "3        ios  \n",
       "4    android  "
      ]
     },
     "execution_count": 5,
     "metadata": {},
     "output_type": "execute_result"
    }
   ],
   "source": [
    "subscriptions.head()"
   ]
  },
  {
   "cell_type": "code",
   "execution_count": 6,
   "metadata": {},
   "outputs": [
    {
     "data": {
      "text/plain": [
       "date_id         datetime64[ns]\n",
       "anonymous_id            object\n",
       "exp_id                 float64\n",
       "dtype: object"
      ]
     },
     "execution_count": 6,
     "metadata": {},
     "output_type": "execute_result"
    }
   ],
   "source": [
    "# check the data types and set them properly for each dataset\n",
    "first_pageviews[\"date_id\"] = pd.to_datetime(first_pageviews[\"date_id\"])\n",
    "first_pageviews.dtypes # Date needs type modification"
   ]
  },
  {
   "cell_type": "code",
   "execution_count": 7,
   "metadata": {},
   "outputs": [
    {
     "data": {
      "text/plain": [
       "anonymous_id    object\n",
       "user_id         object\n",
       "dtype: object"
      ]
     },
     "execution_count": 7,
     "metadata": {},
     "output_type": "execute_result"
    }
   ],
   "source": [
    "# check the data types and set them properly for each dataset\n",
    "users.dtypes # Does not need modification"
   ]
  },
  {
   "cell_type": "code",
   "execution_count": 8,
   "metadata": {},
   "outputs": [
    {
     "data": {
      "text/plain": [
       "user_id               object\n",
       "created_at    datetime64[ns]\n",
       "client_app            object\n",
       "dtype: object"
      ]
     },
     "execution_count": 8,
     "metadata": {},
     "output_type": "execute_result"
    }
   ],
   "source": [
    "# check the data types and set them properly for each dataset\n",
    "subscriptions[\"created_at\"] = pd.to_datetime(subscriptions[\"created_at\"])\n",
    "subscriptions.dtypes # \"Created_at\" needs type modification"
   ]
  },
  {
   "cell_type": "code",
   "execution_count": 9,
   "metadata": {},
   "outputs": [
    {
     "data": {
      "image/png": "[encoded data removed]",
      "text/plain": [
       "<Figure size 1080x360 with 1 Axes>"
      ]
     },
     "metadata": {
      "needs_background": "light"
     },
     "output_type": "display_data"
    }
   ],
   "source": [
    "# plot first pageview per day to inspect if you can spot any outliers or anything suspicious\n",
    "\n",
    "# Group by day\n",
    "fp_analysis = first_pageviews.groupby(\"date_id\", axis=0, as_index=False).agg(\"count\")\n",
    "fp_analysis\n",
    "\n",
    "# Plot graph\n",
    "plt.figure(figsize=(15,5))\n",
    "\n",
    "ax = sns.lineplot(data=fp_analysis,\n",
    "             x=\"date_id\",\n",
    "             y=\"anonymous_id\",\n",
    "             legend='full');"
   ]
  },
  {
   "cell_type": "code",
   "execution_count": 10,
   "metadata": {},
   "outputs": [
    {
     "data": {
      "text/plain": [
       "date_id         datetime64[ns]\n",
       "anonymous_id             int64\n",
       "exp_id                   int64\n",
       "dtype: object"
      ]
     },
     "execution_count": 10,
     "metadata": {},
     "output_type": "execute_result"
    }
   ],
   "source": [
    "fp_analysis.dtypes"
   ]
  },
  {
   "cell_type": "code",
   "execution_count": 11,
   "metadata": {},
   "outputs": [
    {
     "data": {
      "text/plain": [
       "6.857008204016246"
      ]
     },
     "execution_count": 11,
     "metadata": {},
     "output_type": "execute_result"
    }
   ],
   "source": [
    "# check the assignment into the experiment. You should see that 7% of the visitors were \n",
    "# assigned to the experiment with a 50/50 split among the two variants\n",
    "\n",
    "# first_pageviews[\"exp_id\"].count()\n",
    "(first_pageviews.loc[first_pageviews[\"exp_id\"] == 101.0].count()[\"anonymous_id\"] + first_pageviews.loc[first_pageviews[\"exp_id\"] == 102.0].count()[\"anonymous_id\"]) / first_pageviews[\"anonymous_id\"].count() * 100\n"
   ]
  },
  {
   "cell_type": "markdown",
   "metadata": {},
   "source": [
    "The assignment seemed to work as planned. You can now continue with the data prep.\n",
    "\n",
    "## Create experiment dataset\n",
    "\n",
    "To simplify the analysis, filter and merge the datasets to only focus on what's relevant. That is, you only care about visitors that were actually assigned to the experiment. Among those, you want to know how many subscribed. The proportion of those, for each group, is the conversion rate."
   ]
  },
  {
   "cell_type": "code",
   "execution_count": 15,
   "metadata": {},
   "outputs": [],
   "source": [
    "# merge the tables so you can see all visitors assigned to the experiment \n",
    "# and whether they subscribed or not\n",
    "merge1 = pd.merge(first_pageviews, users, how=\"left\", on=\"anonymous_id\")\n",
    "merge2 = pd.merge(merge1, subscriptions, how=\"left\", on=\"user_id\")\n",
    "\n",
    "# Alternatively I could do de merge in one:\n",
    "# exp_data = (exp_pageviews\n",
    "#            .merge(users, on=\"anonymous_id\", how=\"left\")\n",
    "#            .merge(subscriptions, on=\"user_id\", how=\"left\"))\n",
    "\n",
    "# Drop Nan\n",
    "merge2 = merge2[merge2[\"exp_id\"].notna()]\n",
    "\n",
    "# Reset index\n",
    "data_exp = merge2.reset_index(drop=True)\n",
    "\n",
    "# create a dummy column for whether a user subscribed or not\n",
    "data_exp = data_exp.assign(subscribed=np.where(data_exp[\"user_id\"].isna(), 0, 1))"
   ]
  },
  {
   "cell_type": "code",
   "execution_count": 18,
   "metadata": {},
   "outputs": [
    {
     "data": {
      "text/html": [
       "<div>\n",
       "<style scoped>\n",
       "    .dataframe tbody tr th:only-of-type {\n",
       "        vertical-align: middle;\n",
       "    }\n",
       "\n",
       "    .dataframe tbody tr th {\n",
       "        vertical-align: top;\n",
       "    }\n",
       "\n",
       "    .dataframe thead th {\n",
       "        text-align: right;\n",
       "    }\n",
       "</style>\n",
       "<table border=\"1\" class=\"dataframe\">\n",
       "  <thead>\n",
       "    <tr style=\"text-align: right;\">\n",
       "      <th></th>\n",
       "      <th>date_id</th>\n",
       "      <th>anonymous_id</th>\n",
       "      <th>exp_id</th>\n",
       "      <th>user_id</th>\n",
       "      <th>created_at</th>\n",
       "      <th>client_app</th>\n",
       "      <th>subscribed</th>\n",
       "    </tr>\n",
       "  </thead>\n",
       "  <tbody>\n",
       "    <tr>\n",
       "      <th>0</th>\n",
       "      <td>2020-02-01</td>\n",
       "      <td>c8bc65ae-e5bb-47b0-b2ba-a3e32f086c39</td>\n",
       "      <td>101.0</td>\n",
       "      <td>NaN</td>\n",
       "      <td>NaT</td>\n",
       "      <td>NaN</td>\n",
       "      <td>0</td>\n",
       "    </tr>\n",
       "    <tr>\n",
       "      <th>1</th>\n",
       "      <td>2020-02-01</td>\n",
       "      <td>5808da06-67c6-467f-bedd-aa872839ccde</td>\n",
       "      <td>101.0</td>\n",
       "      <td>NaN</td>\n",
       "      <td>NaT</td>\n",
       "      <td>NaN</td>\n",
       "      <td>0</td>\n",
       "    </tr>\n",
       "    <tr>\n",
       "      <th>2</th>\n",
       "      <td>2020-02-01</td>\n",
       "      <td>3265ddda-fefc-471f-b956-fa88b1d85e08</td>\n",
       "      <td>101.0</td>\n",
       "      <td>NaN</td>\n",
       "      <td>NaT</td>\n",
       "      <td>NaN</td>\n",
       "      <td>0</td>\n",
       "    </tr>\n",
       "    <tr>\n",
       "      <th>3</th>\n",
       "      <td>2020-02-01</td>\n",
       "      <td>0b633f23-c070-4289-b323-058c0a4105fb</td>\n",
       "      <td>101.0</td>\n",
       "      <td>NaN</td>\n",
       "      <td>NaT</td>\n",
       "      <td>NaN</td>\n",
       "      <td>0</td>\n",
       "    </tr>\n",
       "    <tr>\n",
       "      <th>4</th>\n",
       "      <td>2020-02-01</td>\n",
       "      <td>72c9c459-ae27-407a-a257-901678774df2</td>\n",
       "      <td>101.0</td>\n",
       "      <td>NaN</td>\n",
       "      <td>NaT</td>\n",
       "      <td>NaN</td>\n",
       "      <td>0</td>\n",
       "    </tr>\n",
       "  </tbody>\n",
       "</table>\n",
       "</div>"
      ],
      "text/plain": [
       "     date_id                          anonymous_id  exp_id user_id created_at  \\\n",
       "0 2020-02-01  c8bc65ae-e5bb-47b0-b2ba-a3e32f086c39   101.0     NaN        NaT   \n",
       "1 2020-02-01  5808da06-67c6-467f-bedd-aa872839ccde   101.0     NaN        NaT   \n",
       "2 2020-02-01  3265ddda-fefc-471f-b956-fa88b1d85e08   101.0     NaN        NaT   \n",
       "3 2020-02-01  0b633f23-c070-4289-b323-058c0a4105fb   101.0     NaN        NaT   \n",
       "4 2020-02-01  72c9c459-ae27-407a-a257-901678774df2   101.0     NaN        NaT   \n",
       "\n",
       "  client_app  subscribed  \n",
       "0        NaN           0  \n",
       "1        NaN           0  \n",
       "2        NaN           0  \n",
       "3        NaN           0  \n",
       "4        NaN           0  "
      ]
     },
     "execution_count": 18,
     "metadata": {},
     "output_type": "execute_result"
    }
   ],
   "source": [
    "# Check the DataFrame\n",
    "data_exp.head()"
   ]
  },
  {
   "cell_type": "markdown",
   "metadata": {},
   "source": [
    "## Inspect experiment data\n",
    "\n",
    "Before running the test, you want to spend some time checking the data you collected."
   ]
  },
  {
   "cell_type": "code",
   "execution_count": 36,
   "metadata": {},
   "outputs": [
    {
     "data": {
      "image/png": "[encoded data removed]",
      "text/plain": [
       "<Figure size 1080x360 with 1 Axes>"
      ]
     },
     "metadata": {
      "needs_background": "light"
     },
     "output_type": "display_data"
    }
   ],
   "source": [
    "# plot a timeseries of daily visitors that were assigned to an experiment\n",
    "# plot a line for each exp_id\n",
    "\n",
    "# Create 2 subsets, 1 for each experiment\n",
    "data_101 = data_exp[data_exp[\"exp_id\"] == 101.0]\n",
    "data_102 = data_exp[data_exp[\"exp_id\"] == 102.0]\n",
    "\n",
    "# Group by dat\n",
    "data_101_day = data_101.groupby(\"date_id\", as_index=False).agg(\"count\")\n",
    "data_102_day = data_102.groupby(\"date_id\", as_index=False).agg(\"count\")\n",
    "\n",
    "plt.figure(figsize=(15,5))\n",
    "\n",
    "sns.lineplot(data=data_101_day,\n",
    "             x=\"date_id\",\n",
    "             y=\"anonymous_id\",\n",
    "             color=\"b\");\n",
    "\n",
    "sns.lineplot(data=data_102_day,\n",
    "             x=\"date_id\",\n",
    "             y=\"anonymous_id\",\n",
    "             color=\"r\");"
   ]
  },
  {
   "cell_type": "code",
   "execution_count": 72,
   "metadata": {},
   "outputs": [
    {
     "name": "stdout",
     "output_type": "stream",
     "text": [
      "2020-02-01 00:00:00\n",
      "2020-02-29 00:00:00\n",
      "Yes, it is the whole month of February\n"
     ]
    }
   ],
   "source": [
    "# does the time range match the experiment requirements?\n",
    "# Do the lines indicate an equal assignment over time?\n",
    "print(data_exp[\"date_id\"].min())\n",
    "print(data_exp[\"date_id\"].max())\n",
    "print(\"Yes, it is the whole month of February\")"
   ]
  },
  {
   "cell_type": "markdown",
   "metadata": {},
   "source": [
    "## Describing the data\n",
    "\n",
    "Compute the differences among the groups, before running a statistical test"
   ]
  },
  {
   "cell_type": "code",
   "execution_count": 53,
   "metadata": {},
   "outputs": [
    {
     "name": "stdout",
     "output_type": "stream",
     "text": [
      "Experiment 101: 493 subscribed users. Experiment 102: 535 subscribed users.\n"
     ]
    }
   ],
   "source": [
    "# compute the number of conversion for each experiment group\n",
    "conv_101 = data_101[\"subscribed\"].sum()\n",
    "conv_102 = data_102[\"subscribed\"].sum()\n",
    "\n",
    "print(f\"Experiment 101: {conv_101} subscribed users. Experiment 102: {conv_102} subscribed users.\")"
   ]
  },
  {
   "cell_type": "code",
   "execution_count": 54,
   "metadata": {},
   "outputs": [
    {
     "name": "stdout",
     "output_type": "stream",
     "text": [
      "Experiment 101: 0.73% conversion rate. Experiment 102: 0.79% conversion rate.\n"
     ]
    }
   ],
   "source": [
    "# compute the conversion rate for each experiment group\n",
    "cr_101 = round((conv_101 / data_101[\"subscribed\"].count()) * 100, 2)\n",
    "cr_102 = round((conv_102 / data_102[\"subscribed\"].count()) * 100, 2)\n",
    "\n",
    "print(f\"Experiment 101: {cr_101}% conversion rate. Experiment 102: {cr_102}% conversion rate.\")"
   ]
  },
  {
   "cell_type": "code",
   "execution_count": 55,
   "metadata": {},
   "outputs": [
    {
     "name": "stdout",
     "output_type": "stream",
     "text": [
      "The experiment 102 performed a 8.22% better.\n"
     ]
    }
   ],
   "source": [
    "# interpret the results. From just looking at the numbers, which group performed better \n",
    "# with respect to conversions or conversion rates?\n",
    "print(f\"The experiment 102 performed a {round((cr_102/cr_101 -1)*100, 2)}% better.\")"
   ]
  },
  {
   "cell_type": "markdown",
   "metadata": {},
   "source": [
    "You should see that there is a difference in the conversion rate across the different experiment groups.\n",
    "\n",
    "Are there any differences among the subscibers for each group with respect to the client application they signed up through?"
   ]
  },
  {
   "cell_type": "code",
   "execution_count": 57,
   "metadata": {},
   "outputs": [
    {
     "data": {
      "text/plain": [
       "web        253\n",
       "ios        135\n",
       "android    105\n",
       "Name: client_app, dtype: int64"
      ]
     },
     "execution_count": 57,
     "metadata": {},
     "output_type": "execute_result"
    }
   ],
   "source": [
    "# Compute relative frequency for each client_app through which they subscribed in each experiment group\n",
    "data_101[\"client_app\"].value_counts()"
   ]
  },
  {
   "cell_type": "code",
   "execution_count": 69,
   "metadata": {},
   "outputs": [
    {
     "name": "stdout",
     "output_type": "stream",
     "text": [
      "In the 101 experiment group 'total subscribers' 51.32% web, 27.38% ios and 21.3% android\n",
      "In the 102 experiment group 'total subscribers' 49.91% web, 30.09% ios and 20.0% android\n"
     ]
    }
   ],
   "source": [
    "# Web, ios, android\n",
    "\n",
    "# Get the values for 101 experiment\n",
    "web_101 = data_101[data_101[\"client_app\"] == \"web\"][\"client_app\"].count()\n",
    "ios_101 = data_101[data_101[\"client_app\"] == \"ios\"][\"client_app\"].count()\n",
    "android_101 = data_101[data_101[\"client_app\"] == \"android\"][\"client_app\"].count()\n",
    "total_101 = data_101[\"client_app\"].count() # total\n",
    "\n",
    "# Get the values for 102 experiment\n",
    "web_102 = data_102[data_102[\"client_app\"] == \"web\"][\"client_app\"].count()\n",
    "ios_102 = data_102[data_102[\"client_app\"] == \"ios\"][\"client_app\"].count()\n",
    "android_102 = data_102[data_102[\"client_app\"] == \"android\"][\"client_app\"].count()\n",
    "total_102 = data_102[\"client_app\"].count() # total\n",
    "\n",
    "print(f\"In the 101 experiment group 'total subscribers' {round((web_101/total_101) *100, 2)}% web, {round((ios_101/total_101) *100, 2)}% ios and {round((android_101/total_101) *100, 2)}% android\")\n",
    "print(f\"In the 102 experiment group 'total subscribers' {round((web_102/total_102) *100, 2)}% web, {round((ios_102/total_102) *100, 2)}% ios and {round((android_102/total_102) *100, 2)}% android\")"
   ]
  },
  {
   "cell_type": "code",
   "execution_count": 73,
   "metadata": {},
   "outputs": [
    {
     "name": "stdout",
     "output_type": "stream",
     "text": [
      "In our variant, we see that less people signed up through web and android, but instead more people signed up through ios. The numbers however, are still very close and might be only due to sampling error. We cannot come up with a plausible explanation as to why that behavior should change\n"
     ]
    }
   ],
   "source": [
    "# interpret and discuss the results\n",
    "print(\"In our variant, we see that less people signed up through web and android, but instead more people signed up through ios. The numbers however, are still very close and might be only due to sampling error. We cannot come up with a plausible explanation as to why that behavior should change\")"
   ]
  },
  {
   "cell_type": "markdown",
   "metadata": {},
   "source": [
    "## Test whether the difference in conversion rate is significant\n",
    "\n",
    "It is time for the statistical test!"
   ]
  },
  {
   "cell_type": "code",
   "execution_count": 74,
   "metadata": {},
   "outputs": [],
   "source": [
    "# compute the two arrays/series to be passed to the t-test\n",
    "exp_101 = data_101[\"subscribed\"]\n",
    "exp_102 = data_102[\"subscribed\"]"
   ]
  },
  {
   "cell_type": "code",
   "execution_count": 75,
   "metadata": {},
   "outputs": [
    {
     "data": {
      "text/plain": [
       "Ttest_indResult(statistic=-1.3556897749411265, pvalue=0.17520015633882965)"
      ]
     },
     "execution_count": 75,
     "metadata": {},
     "output_type": "execute_result"
    }
   ],
   "source": [
    "# run the test and compute the p-value, without the equal variance assumption\n",
    "scipy.stats.ttest_ind(exp_101, exp_102, equal_var=False)"
   ]
  },
  {
   "cell_type": "code",
   "execution_count": 80,
   "metadata": {},
   "outputs": [
    {
     "name": "stdout",
     "output_type": "stream",
     "text": [
      "Given our data, assuming our nullhypothesis is true, there is a 17.5% likelihood of obtaining a difference of 0.07 pp or larger. \n",
      " \n",
      " Inference: Assuming an alpha level of 5%, we cannot reject the null hypothesis. The experiment was not successful. \n",
      " \n",
      " => We cannot conclude that the upsells resulted in a higher conversion rate. We do not roll out the new upsells.\n"
     ]
    }
   ],
   "source": [
    "# Write up your conclusion and discuss\n",
    "print(\"Given our data, assuming our nullhypothesis is true, there is a 17.5% likelihood of obtaining a difference of 0.07 pp or larger. \\n \\n Inference: Assuming an alpha level of 5%, we cannot reject the null hypothesis. The experiment was not successful. \\n \\n => We cannot conclude that the upsells resulted in a higher conversion rate. We do not roll out the new upsells.\")"
   ]
  },
  {
   "cell_type": "markdown",
   "metadata": {},
   "source": [
    "The experiment unfortunately did not result in a significant difference among the two groups. That is, you cannot conclude that the upsells were in fact improving the conversion rates. You still doubt whether you've done everything in the right way. \n",
    "\n",
    "During a coffee break, you overheard some colleague talking about how they are contemplating about getting newspaper subscription. They said they have been going to the newspaper website a few times already but they're not sure if they're willing to pay the price. You start thinking that you were maybe a little to rushed with starting the analysis on the first day after the experiment ended. It might take some time for people to subscribe after the first pageview..."
   ]
  },
  {
   "cell_type": "code",
   "execution_count": 129,
   "metadata": {},
   "outputs": [
    {
     "data": {
      "text/plain": [
       "Timestamp('2020-02-29 23:58:41.641215300')"
      ]
     },
     "execution_count": 129,
     "metadata": {},
     "output_type": "execute_result"
    }
   ],
   "source": [
    "# Using the Five-number summary, check how long it takes for users to subscribe after their first visit\n",
    "data_exp[\"created_at\"].max()"
   ]
  },
  {
   "cell_type": "code",
   "execution_count": 130,
   "metadata": {},
   "outputs": [
    {
     "data": {
      "text/plain": [
       "count                       1028\n",
       "mean      4 days 23:27:23.107857\n",
       "std       4 days 18:58:38.801762\n",
       "min       0 days 00:11:08.493992\n",
       "25%       1 days 12:05:02.718813\n",
       "50%       3 days 12:22:55.859153\n",
       "75%       7 days 03:12:32.620338\n",
       "max      28 days 23:58:41.641215\n",
       "dtype: object"
      ]
     },
     "execution_count": 130,
     "metadata": {},
     "output_type": "execute_result"
    }
   ],
   "source": [
    "# Using the Five-number summary, check how long it takes for users to subscribe after their first visit\n",
    "subscribed = data_exp.loc[data_exp[\"subscribed\"] == 1]\n",
    "(subscribed[\"created_at\"] - subscribed[\"date_id\"]).describe()"
   ]
  },
  {
   "cell_type": "markdown",
   "metadata": {},
   "source": [
    "## Considering time it takes to subscribe\n",
    "\n",
    "The team decides to wait for the analysis until the end of the month to allow users to subscribe. On April 1st, the Product Manager approaches you with even more excitement and pushes you to redo the analysis.\n",
    "\n",
    "The data for the additional subscribers that signed up between the day of your first analysis and today can be found in `data/2020-04-01/`.\n",
    "\n",
    "**Important:** The new data does not include any of the data that were included in the previous datasets."
   ]
  },
  {
   "cell_type": "code",
   "execution_count": 125,
   "metadata": {},
   "outputs": [],
   "source": [
    "# load the newest data for subscriptions and their corresponding mapping in the users dataset\n",
    "# check the latest date a subscription was registered\n",
    "\n",
    "users_new = pd.read_csv(\"../03_ab_testing/data/2020-04-01/users_apr01.csv\")\n",
    "subscriptions_new = pd.read_csv(\"../03_ab_testing/data/2020-04-01/subscriptions_apr01.csv\")\n",
    "subscriptions_new['created_at'] = pd.to_datetime(subscriptions_new['created_at'])"
   ]
  },
  {
   "cell_type": "code",
   "execution_count": 126,
   "metadata": {},
   "outputs": [],
   "source": [
    "# combine the newest data with the existing datasets\n",
    "# Add rows of the new document to the old one\n",
    "users_new = pd.concat([users, users_new]).reset_index(drop=True)\n",
    "subscriptions_new = pd.concat([subscriptions, subscriptions_new]).reset_index(drop=True)\n",
    "\n",
    "# create the dataset we will be analysing\n",
    "pageviews_exp = first_pageviews.loc[~first_pageviews[\"exp_id\"].isna()]\n",
    "\n",
    "data_new = (pageviews_exp\n",
    "            .merge(users_new, on=\"anonymous_id\", how=\"left\")\n",
    "            .merge(subscriptions_new, on=\"user_id\", how=\"left\"))\n",
    "\n",
    "data_new = data_new.assign(subscribed=np.where(data_new['user_id'].isna(), 0, 1))"
   ]
  },
  {
   "cell_type": "code",
   "execution_count": 127,
   "metadata": {},
   "outputs": [
    {
     "data": {
      "image/png": "[encoded data removed]",
      "text/plain": [
       "<Figure size 720x432 with 1 Axes>"
      ]
     },
     "metadata": {
      "needs_background": "light"
     },
     "output_type": "display_data"
    }
   ],
   "source": [
    "# plot a timeseries of daily visitors that were assigned to an experiment, showing a line for each exp_id\n",
    "daily_data_new = (data_new\n",
    "                 .groupby([\"date_id\", \"exp_id\"])\n",
    "                 .agg({\"anonymous_id\": \"count\"})\n",
    "                 .rename(columns={\"anonymous_id\": \"assigned_visitors\"})\n",
    "                 .reset_index())\n",
    "\n",
    "fig, ax = plt.subplots(figsize=(10,6))\n",
    "sns.lineplot(data=daily_data_new,\n",
    "             x=\"date_id\",\n",
    "             y=\"assigned_visitors\",\n",
    "             hue=\"exp_id\",\n",
    "             ax=ax);"
   ]
  },
  {
   "cell_type": "code",
   "execution_count": 131,
   "metadata": {},
   "outputs": [
    {
     "name": "stdout",
     "output_type": "stream",
     "text": [
      "2020-03-31 21:08:21.353170080\n"
     ]
    }
   ],
   "source": [
    "data_new_min, data_new_max = data_new[\"created_at\"].min(), data_new[\"created_at\"].max()\n",
    "\n",
    "print(data_new_max)"
   ]
  },
  {
   "cell_type": "code",
   "execution_count": 132,
   "metadata": {},
   "outputs": [
    {
     "data": {
      "text/html": [
       "<div>\n",
       "<style scoped>\n",
       "    .dataframe tbody tr th:only-of-type {\n",
       "        vertical-align: middle;\n",
       "    }\n",
       "\n",
       "    .dataframe tbody tr th {\n",
       "        vertical-align: top;\n",
       "    }\n",
       "\n",
       "    .dataframe thead th {\n",
       "        text-align: right;\n",
       "    }\n",
       "</style>\n",
       "<table border=\"1\" class=\"dataframe\">\n",
       "  <thead>\n",
       "    <tr style=\"text-align: right;\">\n",
       "      <th></th>\n",
       "      <th></th>\n",
       "      <th>visitors</th>\n",
       "    </tr>\n",
       "    <tr>\n",
       "      <th>exp_id</th>\n",
       "      <th>subscribed</th>\n",
       "      <th></th>\n",
       "    </tr>\n",
       "  </thead>\n",
       "  <tbody>\n",
       "    <tr>\n",
       "      <th rowspan=\"2\" valign=\"top\">101.0</th>\n",
       "      <th>0</th>\n",
       "      <td>99.02485</td>\n",
       "    </tr>\n",
       "    <tr>\n",
       "      <th>1</th>\n",
       "      <td>0.97515</td>\n",
       "    </tr>\n",
       "    <tr>\n",
       "      <th rowspan=\"2\" valign=\"top\">102.0</th>\n",
       "      <th>0</th>\n",
       "      <td>98.94115</td>\n",
       "    </tr>\n",
       "    <tr>\n",
       "      <th>1</th>\n",
       "      <td>1.05885</td>\n",
       "    </tr>\n",
       "  </tbody>\n",
       "</table>\n",
       "</div>"
      ],
      "text/plain": [
       "                   visitors\n",
       "exp_id subscribed          \n",
       "101.0  0           99.02485\n",
       "       1            0.97515\n",
       "102.0  0           98.94115\n",
       "       1            1.05885"
      ]
     },
     "execution_count": 132,
     "metadata": {},
     "output_type": "execute_result"
    }
   ],
   "source": [
    "cr_total_new = (data_new\n",
    "                .groupby([\"exp_id\", \"subscribed\"])\n",
    "                .agg({\"anonymous_id\": \"count\"})\n",
    "                .rename(columns={\"anonymous_id\": \"visitors\"}))\n",
    "exp_total_new = (data_new\n",
    "                 .groupby(\"exp_id\")\n",
    "                 .agg({\"anonymous_id\": \"count\"})\n",
    "                 .rename(columns={\"anonymous_id\": \"visitors\"}))\n",
    "\n",
    "cr_total_new.div(exp_total_new, level=\"exp_id\") * 100"
   ]
  },
  {
   "cell_type": "code",
   "execution_count": 133,
   "metadata": {},
   "outputs": [
    {
     "data": {
      "text/html": [
       "<div>\n",
       "<style scoped>\n",
       "    .dataframe tbody tr th:only-of-type {\n",
       "        vertical-align: middle;\n",
       "    }\n",
       "\n",
       "    .dataframe tbody tr th {\n",
       "        vertical-align: top;\n",
       "    }\n",
       "\n",
       "    .dataframe thead th {\n",
       "        text-align: right;\n",
       "    }\n",
       "</style>\n",
       "<table border=\"1\" class=\"dataframe\">\n",
       "  <thead>\n",
       "    <tr style=\"text-align: right;\">\n",
       "      <th></th>\n",
       "      <th></th>\n",
       "      <th>subscribers</th>\n",
       "    </tr>\n",
       "    <tr>\n",
       "      <th>exp_id</th>\n",
       "      <th>client_app</th>\n",
       "      <th></th>\n",
       "    </tr>\n",
       "  </thead>\n",
       "  <tbody>\n",
       "    <tr>\n",
       "      <th rowspan=\"3\" valign=\"top\">101.0</th>\n",
       "      <th>android</th>\n",
       "      <td>20.845921</td>\n",
       "    </tr>\n",
       "    <tr>\n",
       "      <th>ios</th>\n",
       "      <td>28.247734</td>\n",
       "    </tr>\n",
       "    <tr>\n",
       "      <th>web</th>\n",
       "      <td>50.906344</td>\n",
       "    </tr>\n",
       "    <tr>\n",
       "      <th rowspan=\"3\" valign=\"top\">102.0</th>\n",
       "      <th>android</th>\n",
       "      <td>20.781032</td>\n",
       "    </tr>\n",
       "    <tr>\n",
       "      <th>ios</th>\n",
       "      <td>30.543933</td>\n",
       "    </tr>\n",
       "    <tr>\n",
       "      <th>web</th>\n",
       "      <td>48.675035</td>\n",
       "    </tr>\n",
       "  </tbody>\n",
       "</table>\n",
       "</div>"
      ],
      "text/plain": [
       "                   subscribers\n",
       "exp_id client_app             \n",
       "101.0  android       20.845921\n",
       "       ios           28.247734\n",
       "       web           50.906344\n",
       "102.0  android       20.781032\n",
       "       ios           30.543933\n",
       "       web           48.675035"
      ]
     },
     "execution_count": 133,
     "metadata": {},
     "output_type": "execute_result"
    }
   ],
   "source": [
    "subs_client_new = (data_new\n",
    "                   [~data_new[\"client_app\"].isna()]\n",
    "                   .groupby([\"exp_id\", \"client_app\"])\n",
    "                   .agg({\"anonymous_id\": \"count\"})\n",
    "                   .rename(columns={\"anonymous_id\": \"subscribers\"}))\n",
    "\n",
    "subs_new = (data_new\n",
    "            [~data_new[\"client_app\"].isna()]\n",
    "            .groupby(\"exp_id\")\n",
    "            .agg({\"anonymous_id\": \"count\"})\n",
    "            .rename(columns={\"anonymous_id\": \"subscribers\"}))\n",
    "\n",
    "subs_client_new.div(subs_new, level=\"exp_id\") * 100"
   ]
  },
  {
   "cell_type": "code",
   "execution_count": 134,
   "metadata": {},
   "outputs": [
    {
     "data": {
      "text/plain": [
       "Ttest_indResult(statistic=-1.5359436402900093, pvalue=0.12455454121006294)"
      ]
     },
     "execution_count": 134,
     "metadata": {},
     "output_type": "execute_result"
    }
   ],
   "source": [
    "exp_new_101 = data_new.loc[data_new[\"exp_id\"] == 101, \"subscribed\"]\n",
    "exp_new_102 = data_new.loc[data_new[\"exp_id\"] == 102, \"subscribed\"]\n",
    "\n",
    "scipy.stats.ttest_ind(exp_new_101, exp_new_102, equal_var=False)"
   ]
  },
  {
   "cell_type": "code",
   "execution_count": null,
   "metadata": {},
   "outputs": [],
   "source": [
    "# From here on, you're on your own. Redo the analysis from above with the new dataset.\n",
    "# Make sure to run a few inspections to make sure your data is how you expect it to be\n",
    "# After analyzing, provide a summary and a discussion including your communication to the Product Team"
   ]
  }
 ],
 "metadata": {
  "kernelspec": {
   "display_name": "Python 3",
   "language": "python",
   "name": "python3"
  },
  "language_info": {
   "codemirror_mode": {
    "name": "ipython",
    "version": 3
   },
   "file_extension": ".py",
   "mimetype": "text/x-python",
   "name": "python",
   "nbconvert_exporter": "python",
   "pygments_lexer": "ipython3",
   "version": "3.8.3"
  }
 },
 "nbformat": 4,
 "nbformat_minor": 2
}
