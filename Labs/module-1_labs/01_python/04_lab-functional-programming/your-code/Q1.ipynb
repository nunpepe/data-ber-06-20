{
 "cells": [
  {
   "cell_type": "markdown",
   "metadata": {},
   "source": [
    "In the cell below, create a Python function that wraps your previous solution for the Bag of Words lab.\n",
    "\n",
    "Requirements:\n",
    "\n",
    "1. Your function should accept the following parameters:\n",
    "    * `docs` [REQUIRED] - array of document paths.\n",
    "    * `stop_words` [OPTIONAL] - array of stop words. The default value is an empty array.\n",
    "\n",
    "1. Your function should return a Python object that contains the following:\n",
    "    * `bag_of_words` - array of strings of normalized unique words in the corpus.\n",
    "    * `term_freq` - array of the term-frequency vectors."
   ]
  },
  {
   "cell_type": "code",
   "execution_count": 1,
   "metadata": {},
   "outputs": [],
   "source": [
    "# Import required libraries\n",
    "from string import punctuation\n",
    "\n",
    "# Define function\n",
    "def get_bow_from_docs(docs, stop_words=[]):\n",
    "    \n",
    "    # In the function, first define the variables you will use such as `corpus`, `bag_of_words`, and `term_freq`.\n",
    "    corpus = []\n",
    "    bag_of_words = []\n",
    "    term_freq = []\n",
    "    \n",
    "    \"\"\"\n",
    "    Loop `docs` and read the content of each doc into a string in `corpus`.\n",
    "    Remember to convert the doc content to lowercases and remove punctuation.\n",
    "    \"\"\"\n",
    "    for doc in docs:\n",
    "        f = open(doc, \"r\")\n",
    "        s = f.read()\n",
    "        s = \"\".join(c for c in s if c not in punctuation)\n",
    "        corpus.append(s.lower())\n",
    "        f.close()\n",
    "    \n",
    "    \"\"\"\n",
    "    Loop `corpus`. Append the terms in each doc into the `bag_of_words` array. The terms in `bag_of_words` \n",
    "    should be unique which means before adding each term you need to check if it's already added to the array.\n",
    "    In addition, check if each term is in the `stop_words` array. Only append the term to `bag_of_words`\n",
    "    if it is not a stop word.\n",
    "    \"\"\"\n",
    "    for s in corpus:\n",
    "        s = \"\".join(c for c in s if c not in punctuation)\n",
    "        terms = s.split()\n",
    "        for term in terms:\n",
    "            if not term in bag_of_words and not term in stop_words:\n",
    "                bag_of_words.append(term)\n",
    "    \n",
    "    \"\"\"\n",
    "    Loop `corpus` again. For each doc string, count the number of occurrences of each term in `bag_of_words`. \n",
    "    Create an array for each doc's term frequency and append it to `term_freq`.\n",
    "    \"\"\"\n",
    "    for s in corpus:\n",
    "        freq = []\n",
    "        terms = s.split()\n",
    "        for word in bag_of_words:\n",
    "            freq.append(terms.count(word))\n",
    "        term_freq.append(freq)\n",
    "    \n",
    "    \n",
    "    # Now return your output as an object\n",
    "    return {\n",
    "        \"bag_of_words\": bag_of_words,\n",
    "        \"term_freq\": term_freq\n",
    "    }\n",
    "    "
   ]
  },
  {
   "cell_type": "markdown",
   "metadata": {},
   "source": [
    "Test your function without stop words. You should see the output like below:\n",
    "\n",
    "```{'bag_of_words': ['ironhack', 'is', 'cool', 'i', 'love', 'am', 'a', 'student', 'at'], 'term_freq': [[1, 1, 1, 0, 0, 0, 0, 0, 0], [1, 0, 0, 1, 1, 0, 0, 0, 0], [1, 0, 0, 1, 0, 1, 1, 1, 1]]}```"
   ]
  },
  {
   "cell_type": "code",
   "execution_count": 2,
   "metadata": {},
   "outputs": [
    {
     "name": "stdout",
     "output_type": "stream",
     "text": [
      "{'bag_of_words': ['ironhack', 'is', 'cool', 'i', 'love', 'am', 'a', 'student', 'at'], 'term_freq': [[1, 1, 1, 0, 0, 0, 0, 0, 0], [1, 0, 0, 1, 1, 0, 0, 0, 0], [1, 0, 0, 1, 0, 1, 1, 1, 1]]}\n"
     ]
    }
   ],
   "source": [
    "# Define doc paths array\n",
    "docs = ['../../03_lab-string-operations/your-code/doc1.txt', \n",
    "    '../../03_lab-string-operations/your-code/doc2.txt', \n",
    "    '../../03_lab-string-operations/your-code/doc3.txt']\n",
    "\n",
    "# Obtain BoW from your function\n",
    "bow = get_bow_from_docs(docs)\n",
    "\n",
    "# Print BoW\n",
    "print(bow)"
   ]
  },
  {
   "cell_type": "markdown",
   "metadata": {},
   "source": [
    "If your attempt above is successful, nice work done!\n",
    "\n",
    "Now test your function again with the stop words. In the previous lab we defined the stop words in a large array. In this lab, we'll import the stop words from Scikit-Learn."
   ]
  },
  {
   "cell_type": "code",
   "execution_count": 4,
   "metadata": {},
   "outputs": [
    {
     "name": "stdout",
     "output_type": "stream",
     "text": [
      "frozenset({'such', 'ours', 'anywhere', 'thereupon', 'among', 'made', 'whole', 'twelve', 'a', 'and', 'ie', 'has', 'when', 'whence', 'mine', 'sometimes', 'anything', 'but', 'six', 'who', 'too', 'sixty', 'me', 'these', 'get', 'via', 'if', 'give', 'however', 'been', 'more', 'about', 'also', 'whereas', 'whether', 'while', 'myself', 'everyone', 'your', 'until', 'up', 'most', 'someone', 'con', 'beside', 'part', 'least', 'somewhere', 'due', 'couldnt', 'please', 'become', 'they', 'seemed', 'of', 'whose', 'almost', 'beyond', 'which', 'system', 'interest', 'empty', 'three', 'others', 'own', 'mill', 'enough', 'call', 'toward', 'fifty', 'except', 'nobody', 'both', 'would', 'one', 'eg', 'or', 'throughout', 'four', 'detail', 'over', 'find', 'from', 'see', 'either', 'even', 'noone', 'together', 'cannot', 'nevertheless', 'are', 'already', 'how', 'keep', 'bottom', 'somehow', 'across', 'whoever', 'fire', 'seem', 'why', 'whenever', 'so', 'inc', 'twenty', 'yours', 'anyhow', 'although', 'per', 'whom', 'with', 'without', 'she', 'itself', 'along', 'hereafter', 'former', 'found', 'less', 'formerly', 'below', 'seeming', 'fill', 'her', 'eleven', 'therefore', 'mostly', 'towards', 'before', 'us', 'every', 'de', 'now', 'wherever', 'take', 'behind', 'into', 'something', 'thence', 'not', 're', 'often', 'nine', 'forty', 'since', 'well', 'than', 'cant', 'nothing', 'hereby', 'whither', 'ourselves', 'nowhere', 'still', 'am', 'eight', 'sometime', 'it', 'do', 'etc', 'therein', 'further', 'anyway', 'here', 'our', 'first', 'five', 'cry', 'thin', 'whereupon', 'ltd', 'amoungst', 'may', 'few', 'in', 'i', 'once', 'top', 'thereby', 'have', 'everything', 'moreover', 'where', 'whereby', 'because', 'down', 'there', 'under', 'his', 'those', 'upon', 'herself', 'done', 'hundred', 'some', 'hence', 'ten', 'all', 'ever', 'alone', 'amongst', 'neither', 'he', 'out', 'whatever', 'can', 'above', 'becoming', 'last', 'always', 'yet', 'two', 'un', 'same', 'became', 'side', 'then', 'thereafter', 'during', 'everywhere', 'off', 'no', 'indeed', 'as', 'an', 'put', 'between', 'thick', 'hereupon', 'against', 'otherwise', 'my', 'back', 'for', 'we', 'anyone', 'will', 'being', 'besides', 'each', 'herein', 'the', 'whereafter', 'becomes', 'him', 'next', 'them', 'on', 'many', 'himself', 'after', 'you', 'themselves', 'very', 'hasnt', 'bill', 'at', 'hers', 'though', 'any', 'never', 'thus', 'fifteen', 'rather', 'serious', 'go', 'full', 'had', 'other', 'co', 'be', 'could', 'elsewhere', 'onto', 'latter', 'beforehand', 'name', 'afterwards', 'nor', 'within', 'latterly', 'show', 'was', 'only', 'that', 'thru', 'must', 'front', 'again', 'meanwhile', 'yourselves', 'what', 'its', 'wherein', 'is', 'through', 'third', 'might', 'this', 'by', 'to', 'amount', 'several', 'else', 'sincere', 'much', 'should', 'namely', 'none', 'yourself', 'describe', 'were', 'around', 'seems', 'move', 'their', 'perhaps', 'another'})\n"
     ]
    },
    {
     "name": "stderr",
     "output_type": "stream",
     "text": [
      "/opt/miniconda3/envs/boogie_woogie/lib/python3.8/site-packages/sklearn/utils/deprecation.py:144: FutureWarning: The sklearn.feature_extraction.stop_words module is  deprecated in version 0.22 and will be removed in version 0.24. The corresponding classes / functions should instead be imported from sklearn.feature_extraction.text. Anything that cannot be imported from sklearn.feature_extraction.text is now part of the private API.\n",
      "  warnings.warn(message, FutureWarning)\n"
     ]
    }
   ],
   "source": [
    "from sklearn.feature_extraction import stop_words\n",
    "print(stop_words.ENGLISH_STOP_WORDS)"
   ]
  },
  {
   "cell_type": "markdown",
   "metadata": {},
   "source": [
    "You should have seen a large list of words that looks like:\n",
    "\n",
    "```frozenset({'across', 'mine', 'cannot', ...})```\n",
    "\n",
    "`frozenset` is a type of Python object that is immutable. In this lab you can use it just like an array without conversion."
   ]
  },
  {
   "cell_type": "markdown",
   "metadata": {},
   "source": [
    "Next, test your function with supplying `stop_words.ENGLISH_STOP_WORDS` as the second parameter."
   ]
  },
  {
   "cell_type": "code",
   "execution_count": 6,
   "metadata": {},
   "outputs": [
    {
     "name": "stdout",
     "output_type": "stream",
     "text": [
      "{'bag_of_words': ['ironhack', 'cool', 'love', 'student'], 'term_freq': [[1, 1, 0, 0], [1, 0, 1, 0], [1, 0, 0, 1]]}\n"
     ]
    }
   ],
   "source": [
    "bow = get_bow_from_docs(['../../03_lab-string-operations/your-code/doc1.txt', \n",
    "    '../../03_lab-string-operations/your-code/doc2.txt', \n",
    "    '../../03_lab-string-operations/your-code/doc3.txt'],\n",
    "    stop_words.ENGLISH_STOP_WORDS)\n",
    "\n",
    "print(bow)"
   ]
  },
  {
   "cell_type": "markdown",
   "metadata": {},
   "source": [
    "You should have seen:\n",
    "\n",
    "```{'bag_of_words': ['ironhack', 'cool', 'love', 'student'], 'term_freq': [[1, 1, 0, 0], [1, 0, 1, 0], [1, 0, 0, 1]]}```"
   ]
  }
 ],
 "metadata": {
  "kernelspec": {
   "display_name": "Python 3",
   "language": "python",
   "name": "python3"
  },
  "language_info": {
   "codemirror_mode": {
    "name": "ipython",
    "version": 3
   },
   "file_extension": ".py",
   "mimetype": "text/x-python",
   "name": "python",
   "nbconvert_exporter": "python",
   "pygments_lexer": "ipython3",
   "version": "3.8.3"
  }
 },
 "nbformat": 4,
 "nbformat_minor": 4
}
