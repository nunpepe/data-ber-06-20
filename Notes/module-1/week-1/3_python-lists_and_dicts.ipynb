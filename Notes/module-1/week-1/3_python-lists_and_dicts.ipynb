{
 "cells": [
  {
   "cell_type": "markdown",
   "metadata": {},
   "source": [
    "# Dicts & Lists"
   ]
  },
  {
   "cell_type": "code",
   "execution_count": 1,
   "metadata": {},
   "outputs": [],
   "source": [
    "import random\n",
    "shoppers = random.sample(range(40), 10)"
   ]
  },
  {
   "cell_type": "code",
   "execution_count": 2,
   "metadata": {},
   "outputs": [
    {
     "data": {
      "text/plain": [
       "[39, 8, 28, 15, 18, 27, 23, 34, 36, 35]"
      ]
     },
     "execution_count": 2,
     "metadata": {},
     "output_type": "execute_result"
    }
   ],
   "source": [
    "shoppers"
   ]
  },
  {
   "cell_type": "markdown",
   "metadata": {},
   "source": [
    "Giving out gifts based on purchase value"
   ]
  },
  {
   "cell_type": "code",
   "execution_count": 3,
   "metadata": {},
   "outputs": [
    {
     "name": "stdout",
     "output_type": "stream",
     "text": [
      "39\n",
      "8\n",
      "28\n",
      "15\n",
      "18\n",
      "27\n",
      "23\n",
      "34\n",
      "36\n",
      "35\n"
     ]
    }
   ],
   "source": [
    "for price in shoppers:\n",
    "    print(price)"
   ]
  },
  {
   "cell_type": "code",
   "execution_count": 9,
   "metadata": {},
   "outputs": [
    {
     "name": "stdout",
     "output_type": "stream",
     "text": [
      "Have a house!!!\n",
      "Spend more money!\n",
      "Take this cake!\n",
      "Here's some chocolate\n",
      "Here's some chocolate\n",
      "Take this cake!\n",
      "Take this cake!\n",
      "Have a house!!!\n",
      "Have a house!!!\n",
      "Have a house!!!\n"
     ]
    }
   ],
   "source": [
    "for price in shoppers:\n",
    "    if price < 10:\n",
    "        print(\"Spend more money!\")\n",
    "    elif price <= 20:\n",
    "        print(\"Here's some chocolate\")\n",
    "    elif price <= 30:\n",
    "        print(\"Take this cake!\")\n",
    "    else:\n",
    "        print(\"Have a house!!!\")"
   ]
  },
  {
   "cell_type": "code",
   "execution_count": 11,
   "metadata": {},
   "outputs": [
    {
     "name": "stdout",
     "output_type": "stream",
     "text": [
      "your purchase amount is:\n",
      "39\n",
      "Have a house!!!\n",
      "your purchase amount is:\n",
      "8\n",
      "Spend more money!\n",
      "your purchase amount is:\n",
      "28\n",
      "Take this cake!\n",
      "your purchase amount is:\n",
      "15\n",
      "Here's some chocolate\n",
      "your purchase amount is:\n",
      "18\n",
      "Here's some chocolate\n",
      "your purchase amount is:\n",
      "27\n",
      "Take this cake!\n",
      "your purchase amount is:\n",
      "23\n",
      "Take this cake!\n",
      "your purchase amount is:\n",
      "34\n",
      "Have a house!!!\n",
      "your purchase amount is:\n",
      "36\n",
      "Have a house!!!\n",
      "your purchase amount is:\n",
      "35\n",
      "Have a house!!!\n"
     ]
    }
   ],
   "source": [
    "for price in shoppers:\n",
    "    if price < 10:\n",
    "        print(\"your purchase amount is:\")\n",
    "        print(price)\n",
    "        print(\"Spend more money!\")\n",
    "    elif price <= 20:\n",
    "        print(\"your purchase amount is:\")\n",
    "        print(price)\n",
    "        print(\"Here's some chocolate\")\n",
    "    elif price <= 30:\n",
    "        print(\"your purchase amount is:\")\n",
    "        print(price)\n",
    "        print(\"Take this cake!\")\n",
    "    else:\n",
    "        print(\"your purchase amount is:\")\n",
    "        print(price)\n",
    "        print(\"Have a house!!!\")"
   ]
  },
  {
   "cell_type": "markdown",
   "metadata": {},
   "source": [
    "---\n",
    "\n",
    "String interpolation"
   ]
  },
  {
   "cell_type": "code",
   "execution_count": 13,
   "metadata": {},
   "outputs": [],
   "source": [
    "name = \"Nicholas\""
   ]
  },
  {
   "cell_type": "code",
   "execution_count": 14,
   "metadata": {},
   "outputs": [
    {
     "data": {
      "text/plain": [
       "'Hello Nicholas'"
      ]
     },
     "execution_count": 14,
     "metadata": {},
     "output_type": "execute_result"
    }
   ],
   "source": [
    "f\"Hello {name}\""
   ]
  },
  {
   "cell_type": "code",
   "execution_count": 15,
   "metadata": {},
   "outputs": [
    {
     "name": "stdout",
     "output_type": "stream",
     "text": [
      "Hello Nicholas\n",
      "Hello Milena\n",
      "Hello Sabrina\n"
     ]
    }
   ],
   "source": [
    "names = [\"Nicholas\", \"Milena\", \"Sabrina\"]\n",
    "\n",
    "for name in names:\n",
    "    print(f\"Hello {name}\")"
   ]
  },
  {
   "cell_type": "markdown",
   "metadata": {},
   "source": [
    "----"
   ]
  },
  {
   "cell_type": "code",
   "execution_count": 16,
   "metadata": {},
   "outputs": [
    {
     "name": "stdout",
     "output_type": "stream",
     "text": [
      "Have a house!!! (purchase amount: 39)\n",
      "Spend more money! (purchase amount: 8)\n",
      "Take this cake! (purchase amount: 28)\n",
      "Here's some chocolate (purchase amount: 15)\n",
      "Here's some chocolate (purchase amount: 18)\n",
      "Take this cake! (purchase amount: 27)\n",
      "Take this cake! (purchase amount: 23)\n",
      "Have a house!!! (purchase amount: 34)\n",
      "Have a house!!! (purchase amount: 36)\n",
      "Have a house!!! (purchase amount: 35)\n"
     ]
    }
   ],
   "source": [
    "for price in shoppers:\n",
    "    if price < 10:\n",
    "        print(f\"Spend more money! (purchase amount: {price})\")\n",
    "    elif price <= 20:\n",
    "        print(f\"Here's some chocolate (purchase amount: {price})\")\n",
    "    elif price <= 30:\n",
    "        print(f\"Take this cake! (purchase amount: {price})\")\n",
    "    else:\n",
    "        print(f\"Have a house!!! (purchase amount: {price})\")"
   ]
  },
  {
   "cell_type": "markdown",
   "metadata": {},
   "source": [
    "----\n"
   ]
  },
  {
   "cell_type": "code",
   "execution_count": 25,
   "metadata": {},
   "outputs": [],
   "source": [
    "mini_shoppers = random.choices(range(4), k=10)"
   ]
  },
  {
   "cell_type": "code",
   "execution_count": 26,
   "metadata": {},
   "outputs": [
    {
     "data": {
      "text/plain": [
       "[0, 3, 2, 2, 3, 3, 3, 2, 2, 3]"
      ]
     },
     "execution_count": 26,
     "metadata": {},
     "output_type": "execute_result"
    }
   ],
   "source": [
    "mini_shoppers"
   ]
  },
  {
   "cell_type": "code",
   "execution_count": 27,
   "metadata": {},
   "outputs": [],
   "source": [
    "customer_gifts = {\n",
    "    0: \"Spend more money\",\n",
    "    1: \"Here's some chocolate\",\n",
    "    2: \"Take a cake!\",\n",
    "    3: \"Have a house!!!\"}"
   ]
  },
  {
   "cell_type": "code",
   "execution_count": 28,
   "metadata": {},
   "outputs": [
    {
     "name": "stdout",
     "output_type": "stream",
     "text": [
      "Spend more money\n",
      "Have a house!!!\n",
      "Take a cake!\n",
      "Take a cake!\n",
      "Have a house!!!\n",
      "Have a house!!!\n",
      "Have a house!!!\n",
      "Take a cake!\n",
      "Take a cake!\n",
      "Have a house!!!\n"
     ]
    }
   ],
   "source": [
    "for price in mini_shoppers:\n",
    "    print(customer_gifts[price])"
   ]
  },
  {
   "cell_type": "code",
   "execution_count": 30,
   "metadata": {},
   "outputs": [
    {
     "data": {
      "text/plain": [
       "'Take a cake!'"
      ]
     },
     "execution_count": 30,
     "metadata": {},
     "output_type": "execute_result"
    }
   ],
   "source": [
    "customer_gifts[2]"
   ]
  },
  {
   "cell_type": "markdown",
   "metadata": {},
   "source": [
    "using shoppers"
   ]
  },
  {
   "cell_type": "code",
   "execution_count": 31,
   "metadata": {},
   "outputs": [
    {
     "data": {
      "text/plain": [
       "[39, 8, 28, 15, 18, 27, 23, 34, 36, 35]"
      ]
     },
     "execution_count": 31,
     "metadata": {},
     "output_type": "execute_result"
    }
   ],
   "source": [
    "shoppers"
   ]
  },
  {
   "cell_type": "code",
   "execution_count": 33,
   "metadata": {},
   "outputs": [
    {
     "data": {
      "text/plain": [
       "{0: 'Spend more money',\n",
       " 1: \"Here's some chocolate\",\n",
       " 2: 'Take a cake!',\n",
       " 3: 'Have a house!!!'}"
      ]
     },
     "execution_count": 33,
     "metadata": {},
     "output_type": "execute_result"
    }
   ],
   "source": [
    "customer_gifts"
   ]
  },
  {
   "cell_type": "code",
   "execution_count": 35,
   "metadata": {},
   "outputs": [
    {
     "name": "stdout",
     "output_type": "stream",
     "text": [
      "Have a house!!!\n",
      "Spend more money\n",
      "Take a cake!\n",
      "Here's some chocolate\n",
      "Here's some chocolate\n",
      "Take a cake!\n",
      "Take a cake!\n",
      "Have a house!!!\n",
      "Have a house!!!\n",
      "Have a house!!!\n"
     ]
    }
   ],
   "source": [
    "for price in shoppers:\n",
    "    print(customer_gifts.get(int(price / 10)))"
   ]
  },
  {
   "cell_type": "code",
   "execution_count": 36,
   "metadata": {},
   "outputs": [
    {
     "name": "stdout",
     "output_type": "stream",
     "text": [
      "Have a house!!!\n",
      "Spend more money\n",
      "Take a cake!\n",
      "Here's some chocolate\n",
      "Here's some chocolate\n",
      "Take a cake!\n",
      "Take a cake!\n",
      "Have a house!!!\n",
      "Have a house!!!\n",
      "Have a house!!!\n"
     ]
    }
   ],
   "source": [
    "for price in shoppers:\n",
    "    print(customer_gifts[int(price / 10)])"
   ]
  },
  {
   "cell_type": "markdown",
   "metadata": {},
   "source": [
    "---"
   ]
  },
  {
   "cell_type": "code",
   "execution_count": 37,
   "metadata": {},
   "outputs": [],
   "source": [
    "customers = random.choices(range(40), k=10)"
   ]
  },
  {
   "cell_type": "code",
   "execution_count": 38,
   "metadata": {},
   "outputs": [
    {
     "data": {
      "text/plain": [
       "[36, 2, 12, 25, 31, 23, 24, 1, 36, 14]"
      ]
     },
     "execution_count": 38,
     "metadata": {},
     "output_type": "execute_result"
    }
   ],
   "source": [
    "customers"
   ]
  },
  {
   "cell_type": "code",
   "execution_count": 39,
   "metadata": {},
   "outputs": [],
   "source": [
    "customer_gifts = {\n",
    "    0: \"Spend more money\",\n",
    "    1: \"Here's some chocolate\",\n",
    "    2: \"Take a cake!\",\n",
    "    3: \"Have a house!!!\"}"
   ]
  },
  {
   "cell_type": "code",
   "execution_count": 40,
   "metadata": {},
   "outputs": [
    {
     "data": {
      "text/plain": [
       "{0: 'Spend more money',\n",
       " 1: \"Here's some chocolate\",\n",
       " 2: 'Take a cake!',\n",
       " 3: 'Have a house!!!'}"
      ]
     },
     "execution_count": 40,
     "metadata": {},
     "output_type": "execute_result"
    }
   ],
   "source": [
    "customer_gifts"
   ]
  },
  {
   "cell_type": "code",
   "execution_count": 45,
   "metadata": {},
   "outputs": [
    {
     "name": "stdout",
     "output_type": "stream",
     "text": [
      "Have a house!!!\n",
      "Spend more money\n",
      "Here's some chocolate\n",
      "Take a cake!\n",
      "Have a house!!!\n",
      "Take a cake!\n",
      "Take a cake!\n",
      "Spend more money\n",
      "Have a house!!!\n",
      "Here's some chocolate\n"
     ]
    }
   ],
   "source": [
    "for i in customers:\n",
    "    print(customer_gifts[int(i/10)])"
   ]
  },
  {
   "cell_type": "markdown",
   "metadata": {},
   "source": [
    "---"
   ]
  },
  {
   "cell_type": "code",
   "execution_count": 46,
   "metadata": {},
   "outputs": [
    {
     "ename": "KeyError",
     "evalue": "4",
     "output_type": "error",
     "traceback": [
      "\u001b[0;31m---------------------------------------------------------------------------\u001b[0m",
      "\u001b[0;31mKeyError\u001b[0m                                  Traceback (most recent call last)",
      "\u001b[0;32m<ipython-input-46-954ef2f08b0b>\u001b[0m in \u001b[0;36m<module>\u001b[0;34m\u001b[0m\n\u001b[0;32m----> 1\u001b[0;31m \u001b[0mcustomer_gifts\u001b[0m\u001b[0;34m[\u001b[0m\u001b[0;36m4\u001b[0m\u001b[0;34m]\u001b[0m\u001b[0;34m\u001b[0m\u001b[0;34m\u001b[0m\u001b[0m\n\u001b[0m",
      "\u001b[0;31mKeyError\u001b[0m: 4"
     ]
    }
   ],
   "source": [
    "customer_gifts[4]"
   ]
  },
  {
   "cell_type": "code",
   "execution_count": 47,
   "metadata": {},
   "outputs": [
    {
     "name": "stdout",
     "output_type": "stream",
     "text": [
      "Have a house!!!\n",
      "Spend more money\n",
      "Here's some chocolate\n",
      "Take a cake!\n",
      "Have a house!!!\n",
      "Take a cake!\n",
      "Take a cake!\n",
      "Spend more money\n",
      "Have a house!!!\n",
      "Here's some chocolate\n"
     ]
    }
   ],
   "source": [
    "for i in customers:\n",
    "    if i >= 40:\n",
    "        print(\"Jeeeettt\")\n",
    "    print(customer_gifts[int(i/10)])"
   ]
  }
 ],
 "metadata": {
  "kernelspec": {
   "display_name": "Python 3",
   "language": "python",
   "name": "python3"
  },
  "language_info": {
   "codemirror_mode": {
    "name": "ipython",
    "version": 3
   },
   "file_extension": ".py",
   "mimetype": "text/x-python",
   "name": "python",
   "nbconvert_exporter": "python",
   "pygments_lexer": "ipython3",
   "version": "3.8.3"
  }
 },
 "nbformat": 4,
 "nbformat_minor": 4
}
